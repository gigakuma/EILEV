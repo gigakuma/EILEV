{
 "cells": [
  {
   "attachments": {},
   "cell_type": "markdown",
   "metadata": {},
   "source": [
    "# `fho_main.json` Data Exploration"
   ]
  },
  {
   "cell_type": "code",
   "execution_count": null,
   "metadata": {},
   "outputs": [],
   "source": [
    "# required imports\n",
    "import json\n",
    "import math\n",
    "import re\n",
    "import string\n",
    "\n",
    "import matplotlib.pyplot as plt\n",
    "\n",
    "%matplotlib inline"
   ]
  },
  {
   "attachments": {},
   "cell_type": "markdown",
   "metadata": {},
   "source": [
    "First load `fho_main.json`."
   ]
  },
  {
   "cell_type": "code",
   "execution_count": null,
   "metadata": {},
   "outputs": [],
   "source": [
    "with open(\"../../ego4d/v2/annotations/fho_main.json\") as f:\n",
    "    fho_main = json.load(f)"
   ]
  },
  {
   "attachments": {},
   "cell_type": "markdown",
   "metadata": {},
   "source": [
    "Let's verify if `is_rejected` is correlated to `is_valid_action`."
   ]
  },
  {
   "cell_type": "code",
   "execution_count": null,
   "metadata": {},
   "outputs": [],
   "source": [
    "for video in fho_main[\"videos\"]:\n",
    "    for interval in video[\"annotated_intervals\"]:\n",
    "        for action in interval[\"narrated_actions\"]:\n",
    "            if action[\"is_valid_action\"] == action[\"is_rejected\"]:\n",
    "                # if we're here, it means either 1. it's a valid action but\n",
    "                # not rejected, or 2. it's not a valid action but it's accepted.\n",
    "                print(f'is_valid_action: {action[\"is_valid_action\"]}')\n",
    "                print(f'is_rejected: {action[\"is_rejected\"]}')\n",
    "                print(f'uid: {action[\"uid\"]}')\n",
    "                print(f'narration_text: {action[\"narration_text\"]}')\n",
    "                print(f'video_uid: {video[\"video_uid\"]}')\n",
    "                print(f'clip_uid: {interval[\"clip_uid\"]}')\n",
    "                print(\"========================================================\")"
   ]
  },
  {
   "attachments": {},
   "cell_type": "markdown",
   "metadata": {},
   "source": [
    "How about actions that are not rejected, prefixed by `#C` but not valid?"
   ]
  },
  {
   "cell_type": "code",
   "execution_count": null,
   "metadata": {},
   "outputs": [],
   "source": [
    "for video in fho_main[\"videos\"]:\n",
    "    for interval in video[\"annotated_intervals\"]:\n",
    "        for action in interval[\"narrated_actions\"]:\n",
    "            if (\n",
    "                not action[\"is_rejected\"]\n",
    "                and action[\"narration_text\"].startswith(\"#C\")\n",
    "                and not action[\"is_valid_action\"]\n",
    "            ):\n",
    "                print(f'is_valid_action: {action[\"is_valid_action\"]}')\n",
    "                print(f'is_rejected: {action[\"is_rejected\"]}')\n",
    "                print(f'uid: {action[\"uid\"]}')\n",
    "                print(f'narration_text: {action[\"narration_text\"]}')\n",
    "                print(f'video_uid: {video[\"video_uid\"]}')\n",
    "                print(f'clip_uid: {interval[\"clip_uid\"]}')\n",
    "                print(\"========================================================\")"
   ]
  },
  {
   "attachments": {},
   "cell_type": "markdown",
   "metadata": {},
   "source": [
    "Is `(start_sec, end_sec)` same as `(clip_start_sec, clip_end_sec)`?"
   ]
  },
  {
   "cell_type": "code",
   "execution_count": null,
   "metadata": {},
   "outputs": [],
   "source": [
    "for video in fho_main[\"videos\"]:\n",
    "    for interval in video[\"annotated_intervals\"]:\n",
    "        for action in interval[\"narrated_actions\"]:\n",
    "            if not math.isclose(\n",
    "                action[\"start_sec\"], action[\"clip_start_sec\"], rel_tol=1e-5\n",
    "            ) or not math.isclose(\n",
    "                action[\"end_sec\"], action[\"clip_end_sec\"], rel_tol=1e-5\n",
    "            ):\n",
    "                print(f'start_sec: {action[\"start_sec\"]}')\n",
    "                print(f'clip_start_sec: {action[\"clip_start_sec\"]}')\n",
    "                print(f'end_sec: {action[\"end_sec\"]}')\n",
    "                print(f'clip_end_sec: {action[\"clip_end_sec\"]}')\n",
    "                print(f'uid: {action[\"uid\"]}')\n",
    "                print(f'narration_text: {action[\"narration_text\"]}')\n",
    "                print(f'video_uid: {video[\"video_uid\"]}')\n",
    "                print(f'clip_uid: {interval[\"clip_uid\"]}')\n",
    "                print(\"========================================================\")"
   ]
  },
  {
   "attachments": {},
   "cell_type": "markdown",
   "metadata": {},
   "source": [
    "`(start_sec, end_sec)` and `(clip_start_sec, clip_end_sec)` are not the same. The former denotes the times from the full video, while the latter denotes the times from clips."
   ]
  },
  {
   "attachments": {},
   "cell_type": "markdown",
   "metadata": {},
   "source": [
    "How long are actions?"
   ]
  },
  {
   "cell_type": "code",
   "execution_count": null,
   "metadata": {},
   "outputs": [],
   "source": [
    "action_times = []\n",
    "for video in fho_main[\"videos\"]:\n",
    "    for interval in video[\"annotated_intervals\"]:\n",
    "        for action in interval[\"narrated_actions\"]:\n",
    "            action_time = action[\"clip_end_sec\"] - action[\"clip_start_sec\"]\n",
    "            if action_time < 3:\n",
    "                print(f'start_frame: {action[\"start_frame\"]}')\n",
    "                print(f'end_frame: {action[\"end_frame\"]}')\n",
    "                print(f'uid: {action[\"uid\"]}')\n",
    "                print(f'narration_text: {action[\"narration_text\"]}')\n",
    "                print(f'video_uid: {video[\"video_uid\"]}')\n",
    "                print(f'clip_uid: {interval[\"clip_uid\"]}')\n",
    "                print(\"========================================================\")\n",
    "            action_times.append(action_time)\n",
    "\n",
    "n, bins, patches = plt.hist(action_times)\n",
    "\n",
    "# Annotate the frequency above each bar\n",
    "for i in range(len(n)):\n",
    "    plt.annotate(\n",
    "        f\"{n[i]:.0f}\",\n",
    "        xy=((bins[i] + bins[i + 1]) / 2, n[i]),\n",
    "        xytext=(0, 5),\n",
    "        textcoords=\"offset points\",\n",
    "        ha=\"center\",\n",
    "        va=\"bottom\",\n",
    "    )\n",
    "\n",
    "# Add labels and a title\n",
    "plt.xlabel(\"Seconds\")\n",
    "plt.ylabel(\"Number of Actions\")\n",
    "plt.title(\"Action Duration\")\n",
    "\n",
    "# Display the plot\n",
    "plt.show()"
   ]
  },
  {
   "attachments": {},
   "cell_type": "markdown",
   "metadata": {},
   "source": [
    "Do all `narrated_text`s end with a period?"
   ]
  },
  {
   "cell_type": "code",
   "execution_count": null,
   "metadata": {},
   "outputs": [],
   "source": [
    "punc_counts = {p: 0 for p in string.punctuation}\n",
    "for video in fho_main[\"videos\"]:\n",
    "    for interval in video[\"annotated_intervals\"]:\n",
    "        for action in interval[\"narrated_actions\"]:\n",
    "            last_char = action[\"narration_text\"][-1]\n",
    "            if last_char in punc_counts:\n",
    "                punc_counts[last_char] += 1\n",
    "\n",
    "filtered_counts = {k: v for k, v in punc_counts.items() if v > 0}\n",
    "\n",
    "# Create a bar graph\n",
    "bars = plt.bar(filtered_counts.keys(), filtered_counts.values())\n",
    "\n",
    "# Add labels and a title\n",
    "plt.xlabel(\"Punctuation\")\n",
    "plt.ylabel(\"Frequency\")\n",
    "plt.title(\"Frequency of Sentence Endings with Punctuation\")\n",
    "\n",
    "# Annotate the count above each bar\n",
    "for bar in bars:\n",
    "    plt.annotate(\n",
    "        f\"{bar.get_height():.0f}\",\n",
    "        xy=(bar.get_x() + bar.get_width() / 2, bar.get_height()),\n",
    "        xytext=(0, 3),\n",
    "        textcoords=\"offset points\",\n",
    "        ha=\"center\",\n",
    "        va=\"bottom\",\n",
    "    )\n",
    "\n",
    "# Display the plot\n",
    "plt.show()"
   ]
  },
  {
   "attachments": {},
   "cell_type": "markdown",
   "metadata": {},
   "source": [
    "Any `#summary`s?"
   ]
  },
  {
   "cell_type": "code",
   "execution_count": null,
   "metadata": {},
   "outputs": [],
   "source": [
    "SUMMARY_REGEX = re.compile(r\"\\#summary\", re.IGNORECASE)\n",
    "for video in fho_main[\"videos\"]:\n",
    "    for interval in video[\"annotated_intervals\"]:\n",
    "        for action in interval[\"narrated_actions\"]:\n",
    "            if SUMMARY_REGEX.search(action[\"narration_text\"]):\n",
    "                print(f'uid: {action[\"uid\"]}')\n",
    "                print(f'narration_text: {action[\"narration_text\"]}')\n",
    "                print(f'video_uid: {video[\"video_uid\"]}')\n",
    "                print(f'clip_uid: {interval[\"clip_uid\"]}')\n",
    "                print(\"========================================================\")"
   ]
  },
  {
   "attachments": {},
   "cell_type": "markdown",
   "metadata": {},
   "source": [
    "Is `#unsure` always at the end?"
   ]
  },
  {
   "cell_type": "code",
   "execution_count": null,
   "metadata": {},
   "outputs": [],
   "source": [
    "UNSURE_REGEX = re.compile(r\"\\#unsure\", re.IGNORECASE)\n",
    "ENDS_WITH_UNSURE_REGEX = re.compile(r\"\\#unsure$\", re.IGNORECASE)\n",
    "for video in fho_main[\"videos\"]:\n",
    "    for interval in video[\"annotated_intervals\"]:\n",
    "        for action in interval[\"narrated_actions\"]:\n",
    "            if UNSURE_REGEX.search(\n",
    "                action[\"narration_text\"]\n",
    "            ) and not ENDS_WITH_UNSURE_REGEX.search(action[\"narration_text\"].strip()):\n",
    "                print(f'uid: {action[\"uid\"]}')\n",
    "                print(f'narration_text: {action[\"narration_text\"]}<|eos|>')\n",
    "                print(f'video_uid: {video[\"video_uid\"]}')\n",
    "                print(f'clip_uid: {interval[\"clip_uid\"]}')\n",
    "                print(\"========================================================\")"
   ]
  }
 ],
 "metadata": {
  "kernelspec": {
   "display_name": "fbev-jEv4LXUZ-py3.10",
   "language": "python",
   "name": "python3"
  },
  "language_info": {
   "codemirror_mode": {
    "name": "ipython",
    "version": 3
   },
   "file_extension": ".py",
   "mimetype": "text/x-python",
   "name": "python",
   "nbconvert_exporter": "python",
   "pygments_lexer": "ipython3",
   "version": "3.10.10"
  }
 },
 "nbformat": 4,
 "nbformat_minor": 2
}
