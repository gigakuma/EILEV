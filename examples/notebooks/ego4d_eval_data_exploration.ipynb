{
 "cells": [
  {
   "attachments": {},
   "cell_type": "markdown",
   "metadata": {},
   "source": [
    "# Ego4D Evaluation Data Exploration"
   ]
  },
  {
   "attachments": {},
   "cell_type": "markdown",
   "metadata": {},
   "source": [
    "First load `fho_main.json`"
   ]
  },
  {
   "cell_type": "code",
   "execution_count": null,
   "metadata": {},
   "outputs": [],
   "source": [
    "import json\n",
    "\n",
    "with open(\"../../../ego4d/v2/annotations/fho_main.json\") as f:\n",
    "    fho_main = json.load(f)"
   ]
  },
  {
   "attachments": {},
   "cell_type": "markdown",
   "metadata": {},
   "source": [
    "How many structured verbs are there?"
   ]
  },
  {
   "cell_type": "code",
   "execution_count": null,
   "metadata": {},
   "outputs": [],
   "source": [
    "from collections import Counter\n",
    "\n",
    "struct_verb_counter = Counter()\n",
    "for video in fho_main[\"videos\"]:\n",
    "    for interval in video[\"annotated_intervals\"]:\n",
    "        for action in interval[\"narrated_actions\"]:\n",
    "            if action[\"structured_verb\"] is None:\n",
    "                struct_verb_counter[\"None\"] += 1\n",
    "            else:\n",
    "                struct_verb_counter[action[\"structured_verb\"]] += 1\n",
    "\n",
    "print(f\"len(struct_verb_counter) = {len(struct_verb_counter)}\")\n",
    "for verb, count in struct_verb_counter.items():\n",
    "    print(f\"{verb}: {count}\")"
   ]
  },
  {
   "attachments": {},
   "cell_type": "markdown",
   "metadata": {},
   "source": [
    "How many structured nouns are there?"
   ]
  },
  {
   "cell_type": "code",
   "execution_count": null,
   "metadata": {},
   "outputs": [],
   "source": [
    "struct_noun_counter = Counter()\n",
    "for video in fho_main[\"videos\"]:\n",
    "    for interval in video[\"annotated_intervals\"]:\n",
    "        for action in interval[\"narrated_actions\"]:\n",
    "            if action[\"frames\"] is None:\n",
    "                continue\n",
    "            for frame in action[\"frames\"]:\n",
    "                if frame[\"frame_type\"] != \"pnr_frame\":\n",
    "                    # some actions don't have contact frames so use pnr_frame\n",
    "                    continue\n",
    "                for box in frame[\"boxes\"]:\n",
    "                    if box[\"object_type\"] != \"object_of_change\":\n",
    "                        continue\n",
    "                    struct_noun_counter[box[\"structured_noun\"]] += 1\n",
    "\n",
    "print(f\"len(struct_noun_counter) = {len(struct_noun_counter)}\")\n",
    "for noun, count in struct_noun_counter.items():\n",
    "    print(f\"{noun}: {count}\")"
   ]
  },
  {
   "attachments": {},
   "cell_type": "markdown",
   "metadata": {},
   "source": [
    "How about in `fho_lta_taxonomy.json`?"
   ]
  },
  {
   "cell_type": "code",
   "execution_count": null,
   "metadata": {},
   "outputs": [],
   "source": [
    "with open(\"../../../ego4d/v2/annotations/fho_lta_taxonomy.json\") as f:\n",
    "    fho_lta_taxonomy = json.load(f)\n",
    "\n",
    "taxonomy_verbs = set(fho_lta_taxonomy[\"verbs\"])\n",
    "taxonomy_nouns = set(fho_lta_taxonomy[\"nouns\"])\n",
    "\n",
    "print(f\"len(taxonomy_verbs): {len(taxonomy_verbs)}\")\n",
    "print(f\"len(taxonomy_nouns): {len(taxonomy_nouns)}\")\n",
    "\n",
    "print(\n",
    "    \"taxonomy_verbs - struct_verb_counter.keys(): \"\n",
    "    f\"{taxonomy_verbs - struct_verb_counter.keys()}\"\n",
    ")\n",
    "print(\n",
    "    \"struct_verb_counter.keys() - taxonomy_verbs: \"\n",
    "    f\"{struct_verb_counter.keys() - taxonomy_verbs}\"\n",
    ")\n",
    "\n",
    "print(\n",
    "    \"taxonomy_nouns - struct_noun_counter.keys(): \"\n",
    "    f\"{taxonomy_nouns - struct_noun_counter.keys()}\"\n",
    ")\n",
    "print(\n",
    "    \"struct_noun_counter.keys() - taxonomy_nouns: \"\n",
    "    f\"{struct_noun_counter.keys() - taxonomy_nouns}\"\n",
    ")"
   ]
  },
  {
   "attachments": {},
   "cell_type": "markdown",
   "metadata": {},
   "source": [
    "Let's flatten structured verbs."
   ]
  },
  {
   "cell_type": "code",
   "execution_count": null,
   "metadata": {},
   "outputs": [],
   "source": [
    "import re\n",
    "\n",
    "pattern = re.compile(r\"^(.+)_\\((.+)\\)$\")\n",
    "\n",
    "\n",
    "def extract_words(s):\n",
    "    m = pattern.match(s)\n",
    "    if m is None:\n",
    "        extracted_words = [s]\n",
    "    else:\n",
    "        extracted_words = [m.group(1)] + m.group(2).split(\",_\")\n",
    "    words = []\n",
    "    for extracted in extracted_words:\n",
    "        words.extend(\n",
    "            word.replace(\"-\", \" \").replace(\"_\", \" \") for word in extracted.split(\"/\")\n",
    "        )\n",
    "    return words\n",
    "\n",
    "\n",
    "flat_verbs = []\n",
    "for verb in taxonomy_verbs:\n",
    "    flat_verbs.extend(extract_words(verb))\n",
    "print(f\"len(flat_verbs) = {len(flat_verbs)}\")\n",
    "print(\"Flat verbs:\")\n",
    "for verb in flat_verbs:\n",
    "    print(verb)\n",
    "\n",
    "flat_nouns = []\n",
    "for noun in taxonomy_nouns:\n",
    "    flat_nouns.extend(extract_words(noun))\n",
    "print(f\"len(flat_nouns) = {len(flat_nouns)}\")\n",
    "print(\"Flat nouns:\")\n",
    "for noun in flat_nouns:\n",
    "    print(noun)"
   ]
  }
 ],
 "metadata": {
  "kernelspec": {
   "display_name": "video-blip-IEa7WKva-py3.10",
   "language": "python",
   "name": "python3"
  },
  "language_info": {
   "codemirror_mode": {
    "name": "ipython",
    "version": 3
   },
   "file_extension": ".py",
   "mimetype": "text/x-python",
   "name": "python",
   "nbconvert_exporter": "python",
   "pygments_lexer": "ipython3",
   "version": "3.10.10"
  }
 },
 "nbformat": 4,
 "nbformat_minor": 2
}
