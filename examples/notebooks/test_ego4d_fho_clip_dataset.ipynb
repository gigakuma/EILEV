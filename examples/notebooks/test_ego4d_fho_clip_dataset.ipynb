{
 "cells": [
  {
   "attachments": {},
   "cell_type": "markdown",
   "metadata": {},
   "source": [
    "# Test Ego4dFHOClipDataset"
   ]
  },
  {
   "cell_type": "code",
   "execution_count": null,
   "metadata": {},
   "outputs": [],
   "source": [
    "import random\n",
    "\n",
    "import imageio.v3 as iio\n",
    "import numpy as np\n",
    "from IPython.display import Image\n",
    "\n",
    "# helpful functions\n",
    "\n",
    "\n",
    "def draw_random_items(dataset, num):\n",
    "    return [dataset[idx] for idx in random.sample(list(range(len(dataset))), num)]\n",
    "\n",
    "\n",
    "def display_gif(video_tensor, gif_file_name):\n",
    "    \"\"\"Prepares and displays a GIF from a video tensor.\n",
    "\n",
    "    The video tensor is expected to have the following shape:\n",
    "    (num_channels, num_frames, height, width).\n",
    "    \"\"\"\n",
    "    iio.imwrite(\n",
    "        gif_file_name,\n",
    "        video_tensor.permute(1, 2, 3, 0).numpy().astype(np.uint8),\n",
    "        extension=\".gif\",\n",
    "        # infinite loop\n",
    "        loop=0,\n",
    "    )\n",
    "    return Image(gif_file_name)"
   ]
  },
  {
   "cell_type": "code",
   "execution_count": null,
   "metadata": {},
   "outputs": [],
   "source": [
    "from pytorchvideo.transforms import ApplyTransformToKey, UniformTemporalSubsample\n",
    "from torchvision.transforms import Compose, RandomHorizontalFlip, RandomRotation\n",
    "from transformers import Blip2Processor\n",
    "\n",
    "annotation_path = \"../../ego4d/v2/annotations/fho_main.json\"\n",
    "clip_path = \"../../ego4d/v2/clips/\"\n",
    "processor = Blip2Processor.from_pretrained(\"Salesforce/blip2-opt-2.7b\")\n",
    "transform = Compose(\n",
    "    [\n",
    "        ApplyTransformToKey(\n",
    "            \"pixel_values\",\n",
    "            Compose(\n",
    "                [\n",
    "                    UniformTemporalSubsample(8),\n",
    "                    RandomHorizontalFlip(),\n",
    "                    RandomRotation((-45, 45)),\n",
    "                ]\n",
    "            ),\n",
    "        )\n",
    "    ]\n",
    ")"
   ]
  },
  {
   "attachments": {},
   "cell_type": "markdown",
   "metadata": {},
   "source": [
    "Randomly draw 3 items from a dataset for decoder only LMs."
   ]
  },
  {
   "cell_type": "code",
   "execution_count": null,
   "metadata": {},
   "outputs": [],
   "source": [
    "import sys\n",
    "\n",
    "sys.path.append(\"../../\")\n",
    "\n",
    "from IPython.display import display\n",
    "\n",
    "from ego4d_dataset import Ego4dFHOClipDataset\n",
    "\n",
    "dataset = Ego4dFHOClipDataset(\n",
    "    annotation_path,\n",
    "    clip_path,\n",
    "    processor,\n",
    "    use_decoder_only_language_model=True,\n",
    "    transform=transform,\n",
    ")\n",
    "\n",
    "for i, item in enumerate(draw_random_items(dataset, 3)):\n",
    "    print(f\"input_ids: {item['input_ids']}\")\n",
    "    print(f\"labels: {item.get('labels')}\")\n",
    "    display(display_gif(item[\"pixel_values\"], f\"decoder_only_lm_{i}.gif\"))"
   ]
  },
  {
   "attachments": {},
   "cell_type": "markdown",
   "metadata": {},
   "source": [
    "Randomly draw 3 items from a dataset for seq2seq LMs."
   ]
  },
  {
   "cell_type": "code",
   "execution_count": null,
   "metadata": {},
   "outputs": [],
   "source": [
    "dataset = Ego4dFHOClipDataset(\n",
    "    annotation_path,\n",
    "    clip_path,\n",
    "    processor,\n",
    "    use_decoder_only_language_model=False,\n",
    "    transform=transform,\n",
    ")\n",
    "\n",
    "for i, item in enumerate(draw_random_items(dataset, 3)):\n",
    "    print(f\"input_ids: {item['input_ids']}\")\n",
    "    print(f\"labels: {item['labels']}\")\n",
    "    display(display_gif(item[\"pixel_values\"], f\"seq2seq_lm_{i}.gif\"))"
   ]
  }
 ],
 "metadata": {
  "kernelspec": {
   "display_name": "fbev-jEv4LXUZ-py3.10",
   "language": "python",
   "name": "python3"
  },
  "language_info": {
   "codemirror_mode": {
    "name": "ipython",
    "version": 3
   },
   "file_extension": ".py",
   "mimetype": "text/x-python",
   "name": "python",
   "nbconvert_exporter": "python",
   "pygments_lexer": "ipython3",
   "version": "3.10.10"
  }
 },
 "nbformat": 4,
 "nbformat_minor": 2
}
