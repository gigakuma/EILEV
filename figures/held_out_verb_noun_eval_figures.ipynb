{
 "cells": [
  {
   "cell_type": "markdown",
   "metadata": {},
   "source": [
    "# Held-out Verb/Noun Pair Evaluation"
   ]
  },
  {
   "cell_type": "markdown",
   "metadata": {},
   "source": [
    "## Semantic Similarity Metrics"
   ]
  },
  {
   "cell_type": "code",
   "execution_count": null,
   "metadata": {},
   "outputs": [],
   "source": [
    "%matplotlib inline\n",
    "import matplotlib.pyplot as plt\n",
    "\n",
    "shots = [0, 1, 2, 4, 8, 12, 16]\n",
    "\n",
    "# EILEV-trained BLIP-2 OPT-2.7B\n",
    "# 0, 1, 2, 4, 8, 12, 16 shots\n",
    "eilev_blip2_opt_2_7b = {\n",
    "    \"STS-CE\": [0.222, 0.5117, 0.51, 0.5939, 0.6602, 0.6775, 0.6814],\n",
    "    \"STS-BE\": [0.3672, 0.5864, 0.5978, 0.6727, 0.7311, 0.7466, 0.7512],\n",
    "    # 'BERTScore-F1': [0.5451, 0.6229, 0.6323, 0.639, 0.6444, 0.6449, 0.6448],\n",
    "}\n",
    "\n",
    "# EILEV Flan-T5-xl\n",
    "# 0, 1, 2, 4, 8, 12, 16 shots\n",
    "eilev_flan_t5_xl = {\n",
    "    \"STS-CE\": [],\n",
    "    \"STS-BE\": [],\n",
    "    # 'BERTScore-F1': [],\n",
    "}\n",
    "\n",
    "# Plotting\n",
    "plt.figure(figsize=(10, 5))\n",
    "\n",
    "plt.title(\n",
    "    \"Held-out Verb/Noun Pair Eval: Semantic-similarity-based Metrics\",\n",
    "    y=1.25,\n",
    "    fontweight=\"bold\",\n",
    ")\n",
    "\n",
    "# EILEV models\n",
    "for metric, values in eilev_blip2_opt_2_7b.items():\n",
    "    plt.plot(shots, values, label=f\"EILEV BLIP-2 OPT-2.7B {metric}\", marker=\"o\")\n",
    "\n",
    "# for metric, values in eilev_flan_t5_xl.items():\n",
    "#     plt.plot(shots, values, label=f\"EILEV BLIP-2 Flan-T5-xl {metric}\", marker=\"s\")\n",
    "\n",
    "plt.xlabel(\"Shots\")\n",
    "plt.ylabel(\"Score\")\n",
    "plt.xticks(shots, labels=[str(s) for s in shots])\n",
    "plt.xlim(0, max(shots))\n",
    "plt.legend(loc=\"lower center\", bbox_to_anchor=(0.5, 1), ncol=3)\n",
    "plt.grid(True)\n",
    "plt.show()"
   ]
  },
  {
   "cell_type": "markdown",
   "metadata": {},
   "source": [
    "## N-gram Metrics"
   ]
  },
  {
   "cell_type": "code",
   "execution_count": null,
   "metadata": {},
   "outputs": [],
   "source": [
    "%matplotlib inline\n",
    "import matplotlib.pyplot as plt\n",
    "\n",
    "shots = [0, 1, 2, 4, 8, 12, 16]\n",
    "\n",
    "# EILEV-trained BLIP-2 OPT-2.7B\n",
    "# 0, 1, 2, 4, 8, 12, 16 shots\n",
    "eilev_blip2_opt_2_7b = {\n",
    "    \"RougeL\": [0.1916, 0.5245, 0.5601, 0.6069, 0.6424, 0.6547, 0.6606],\n",
    "    \"BLEU\": [0.01493, 0.1183, 0.2028, 0.2526, 0.2888, 0.3037, 0.3145],\n",
    "}\n",
    "\n",
    "# EILEV Flan-T5-xl\n",
    "# 0, 1, 2, 4, 12, 16 shots\n",
    "eilev_flan_t5_xl = {\n",
    "    \"RougeL\": [],\n",
    "    \"BLEU\": [],\n",
    "}\n",
    "\n",
    "# Plotting\n",
    "plt.figure(figsize=(10, 5))\n",
    "\n",
    "plt.title(\n",
    "    \"Held-out Verb/Noun Pair Eval: N-gram-based Metrics\", y=1.25, fontweight=\"bold\"\n",
    ")\n",
    "\n",
    "# EILEV models\n",
    "for metric, values in eilev_blip2_opt_2_7b.items():\n",
    "    plt.plot(shots, values, label=f\"EILEV BLIP-2 OPT-2.7B {metric}\", marker=\"o\")\n",
    "\n",
    "# for metric, values in eilev_flan_t5_xl.items():\n",
    "#     plt.plot(shots, values, label=f\"EILEV BLIP-2 Flan-T5-xl {metric}\", marker=\"s\")\n",
    "\n",
    "plt.xlabel(\"Shots\")\n",
    "plt.ylabel(\"Score\")\n",
    "plt.xticks(shots, labels=[str(s) for s in shots])\n",
    "plt.xlim(0, max(shots))\n",
    "plt.legend(loc=\"lower center\", bbox_to_anchor=(0.5, 1), ncol=3)\n",
    "plt.grid(True)\n",
    "plt.show()"
   ]
  }
 ],
 "metadata": {
  "kernelspec": {
   "display_name": "video-blip-KO49OV_G-py3.10",
   "language": "python",
   "name": "python3"
  },
  "language_info": {
   "codemirror_mode": {
    "name": "ipython",
    "version": 3
   },
   "file_extension": ".py",
   "mimetype": "text/x-python",
   "name": "python",
   "nbconvert_exporter": "python",
   "pygments_lexer": "ipython3",
   "version": "3.10.12"
  }
 },
 "nbformat": 4,
 "nbformat_minor": 2
}
