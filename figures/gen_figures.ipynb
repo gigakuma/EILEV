{
 "cells": [
  {
   "cell_type": "markdown",
   "metadata": {},
   "source": [
    "# Ego4D Eval"
   ]
  },
  {
   "cell_type": "code",
   "execution_count": null,
   "metadata": {},
   "outputs": [],
   "source": [
    "%matplotlib inline\n",
    "import matplotlib.pyplot as plt\n",
    "\n",
    "# Data\n",
    "shots = [0, 4, 8, 12, 16]\n",
    "\n",
    "# BLIP-2 OPT-2.7B (baseline)\n",
    "blip2 = {\n",
    "    \"STS-CE\": [0.1505, 0.432, 0.4575, 0.4469, 0.3809],\n",
    "    \"STS-BE\": [0.3094, 0.5222, 0.5486, 0.5422, 0.4755],\n",
    "    \"RougeL\": [0.09565, 0.5006, 0.5204, 0.5019, 0.4271],\n",
    "    # 'BERTScore-F1': [-1.716, 0.3596, 0.5919, 0.5613, -0.315],\n",
    "    \"BLEU\": [0.003134, 0.1828, 0.1926, 0.1766, 0.1203],\n",
    "}\n",
    "\n",
    "# VideoBLIP OPT-2.7B\n",
    "videoblip = {\n",
    "    \"STS-CM\": [0.2026, 0.5668, 0.6149, 0.6305, 0.6364],\n",
    "    \"STS-BE\": [0.3506, 0.6382, 0.6772, 0.6899, 0.6955],\n",
    "    \"RougeL\": [0.1699, 0.5811, 0.6109, 0.6215, 0.6267],\n",
    "    # 'BERTScore-F1': [0.5199, 0.6413, 0.6499, 0.6515, 0.6518],\n",
    "    \"BLEU\": [0.007463, 0.2548, 0.2839, 0.2976, 0.305],\n",
    "}\n",
    "\n",
    "# Plotting\n",
    "plt.figure(figsize=(15, 10))\n",
    "\n",
    "for metric, values in videoblip.items():\n",
    "    plt.plot(shots, values, label=f\"VideoBLIP {metric}\", marker=\"o\")\n",
    "\n",
    "for metric, values in blip2.items():\n",
    "    plt.plot(shots, values, label=f\"BLIP-2 {metric}\", linestyle=\"--\", marker=\"x\")\n",
    "\n",
    "plt.xlabel(\"Shots\")\n",
    "plt.ylabel(\"Score\")\n",
    "plt.legend(loc=\"upper left\")\n",
    "plt.grid(True)\n",
    "plt.tight_layout()\n",
    "plt.show()"
   ]
  }
 ],
 "metadata": {
  "kernelspec": {
   "display_name": "video-blip-IEa7WKva-py3.10",
   "language": "python",
   "name": "python3"
  },
  "language_info": {
   "codemirror_mode": {
    "name": "ipython",
    "version": 3
   },
   "file_extension": ".py",
   "mimetype": "text/x-python",
   "name": "python",
   "nbconvert_exporter": "python",
   "pygments_lexer": "ipython3",
   "version": "3.10.10"
  }
 },
 "nbformat": 4,
 "nbformat_minor": 2
}
