{
 "cells": [
  {
   "cell_type": "markdown",
   "metadata": {},
   "source": [
    "# Ego4D Eval"
   ]
  },
  {
   "cell_type": "code",
   "execution_count": null,
   "metadata": {},
   "outputs": [],
   "source": [
    "%matplotlib inline\n",
    "import matplotlib.pyplot as plt\n",
    "\n",
    "# Data\n",
    "shots = [0, 4, 8, 12, 16]\n",
    "\n",
    "# BLIP-2 OPT-2.7B (baseline)\n",
    "blip2 = {\n",
    "    \"STS-CE\": [0.1505, 0.432, 0.4575, 0.4469, 0.3809],\n",
    "    \"STS-BE\": [0.3094, 0.5222, 0.5486, 0.5422, 0.4755],\n",
    "    \"RougeL\": [0.09565, 0.5006, 0.5204, 0.5019, 0.4271],\n",
    "    # 'BERTScore-F1': [-1.716, 0.3596, 0.5919, 0.5613, -0.315],\n",
    "    \"BLEU\": [0.003134, 0.1828, 0.1926, 0.1766, 0.1203],\n",
    "}\n",
    "\n",
    "# EILEV OPT-2.7B\n",
    "eilev = {\n",
    "    \"STS-CM\": [0.2026, 0.5668, 0.6149, 0.6305, 0.6364],\n",
    "    \"STS-BE\": [0.3506, 0.6382, 0.6772, 0.6899, 0.6955],\n",
    "    \"RougeL\": [0.1699, 0.5811, 0.6109, 0.6215, 0.6267],\n",
    "    # 'BERTScore-F1': [0.5199, 0.6413, 0.6499, 0.6515, 0.6518],\n",
    "    \"BLEU\": [0.007463, 0.2548, 0.2839, 0.2976, 0.305],\n",
    "}\n",
    "\n",
    "# Plotting\n",
    "plt.figure()\n",
    "\n",
    "for metric, values in eilev.items():\n",
    "    plt.plot(shots, values, label=f\"EILEV OPT-2.7B {metric}\", marker=\"o\")\n",
    "\n",
    "for metric, values in blip2.items():\n",
    "    plt.plot(\n",
    "        shots, values, label=f\"BLIP-2 OPT-2.7B {metric}\", linestyle=\"--\", marker=\"x\"\n",
    "    )\n",
    "\n",
    "plt.xlabel(\"Shots\")\n",
    "plt.ylabel(\"Score\")\n",
    "plt.xticks(shots)\n",
    "plt.legend(loc=\"lower center\", bbox_to_anchor=(0.5, 1), ncol=2)\n",
    "plt.grid(True)\n",
    "plt.show()"
   ]
  },
  {
   "cell_type": "code",
   "execution_count": null,
   "metadata": {},
   "outputs": [],
   "source": [
    "# Data\n",
    "shots = [0, 4, 8, 12, 16]\n",
    "\n",
    "# BLIP-2 Flan-T5-xl (baseline)\n",
    "blip2 = {\n",
    "    \"STS-CE\": [],\n",
    "    \"STS-BE\": [],\n",
    "    \"RougeL\": [],\n",
    "    # 'BERTScore-F1': [],\n",
    "    \"BLEU\": [],\n",
    "}\n",
    "\n",
    "# EILEV Flan-T5-xl\n",
    "eilev = {\n",
    "    \"STS-CM\": [0.1907, 0.5626, 0.6024, 0.6137, 0.6208],\n",
    "    \"STS-BE\": [0.2533, 0.624, 0.6632, 0.6745, 0.6819],\n",
    "    \"RougeL\": [0.1671, 0.5693, 0.5983, 0.6057, 0.6106],\n",
    "    # 'BERTScore-F1': [-10.45, 0.6451, 0.6495, 0.652, 0.6541],\n",
    "    \"BLEU\": [0.02247, 0.2487, 0.2775, 0.2827, 0.2846],\n",
    "}\n",
    "\n",
    "# Plotting\n",
    "plt.figure()\n",
    "\n",
    "for metric, values in eilev.items():\n",
    "    plt.plot(shots, values, label=f\"EILEV Flan-T5-xl {metric}\", marker=\"o\")\n",
    "\n",
    "for metric, values in blip2.items():\n",
    "    plt.plot(\n",
    "        shots, values, label=f\"BLIP-2 Flan-T5-xl {metric}\", linestyle=\"--\", marker=\"x\"\n",
    "    )\n",
    "\n",
    "plt.xlabel(\"Shots\")\n",
    "plt.ylabel(\"Score\")\n",
    "plt.xticks(shots)\n",
    "plt.legend(loc=\"lower center\", bbox_to_anchor=(0.5, 1), ncol=2)\n",
    "plt.grid(True)\n",
    "plt.show()"
   ]
  }
 ],
 "metadata": {
  "kernelspec": {
   "display_name": "video-blip-IEa7WKva-py3.10",
   "language": "python",
   "name": "python3"
  },
  "language_info": {
   "codemirror_mode": {
    "name": "ipython",
    "version": 3
   },
   "file_extension": ".py",
   "mimetype": "text/x-python",
   "name": "python",
   "nbconvert_exporter": "python",
   "pygments_lexer": "ipython3",
   "version": "3.10.10"
  }
 },
 "nbformat": 4,
 "nbformat_minor": 2
}
